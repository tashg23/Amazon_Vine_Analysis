{
  "nbformat": 4,
  "nbformat_minor": 0,
  "metadata": {
    "colab": {
      "provenance": []
    },
    "kernelspec": {
      "name": "python3",
      "display_name": "Python 3"
    },
    "language_info": {
      "name": "python"
    }
  },
  "cells": [
    {
      "cell_type": "code",
      "execution_count": 1,
      "metadata": {
        "colab": {
          "base_uri": "https://localhost:8080/"
        },
        "id": "FDKfoAchROXA",
        "outputId": "b5a29256-9877-4b77-8425-abc12b256845"
      },
      "outputs": [
        {
          "output_type": "stream",
          "name": "stdout",
          "text": [
            "Get:1 https://cloud.r-project.org/bin/linux/ubuntu focal-cran40/ InRelease [3,622 B]\n",
            "Hit:2 https://developer.download.nvidia.com/compute/cuda/repos/ubuntu2004/x86_64  InRelease\n",
            "Hit:3 http://archive.ubuntu.com/ubuntu focal InRelease\n",
            "Get:4 http://security.ubuntu.com/ubuntu focal-security InRelease [114 kB]\n",
            "Hit:5 http://ppa.launchpad.net/c2d4u.team/c2d4u4.0+/ubuntu focal InRelease\n",
            "Get:6 http://archive.ubuntu.com/ubuntu focal-updates InRelease [114 kB]\n",
            "Hit:7 http://ppa.launchpad.net/cran/libgit2/ubuntu focal InRelease\n",
            "Get:8 http://archive.ubuntu.com/ubuntu focal-backports InRelease [108 kB]\n",
            "Hit:9 http://ppa.launchpad.net/deadsnakes/ppa/ubuntu focal InRelease\n",
            "Get:10 http://ppa.launchpad.net/graphics-drivers/ppa/ubuntu focal InRelease [24.3 kB]\n",
            "Get:11 http://archive.ubuntu.com/ubuntu focal-updates/universe amd64 Packages [1,323 kB]\n",
            "Get:12 http://security.ubuntu.com/ubuntu focal-security/universe amd64 Packages [1,027 kB]\n",
            "Hit:13 http://ppa.launchpad.net/ubuntugis/ppa/ubuntu focal InRelease\n",
            "Get:14 http://archive.ubuntu.com/ubuntu focal-updates/main amd64 Packages [3,069 kB]\n",
            "Get:15 http://archive.ubuntu.com/ubuntu focal-backports/main amd64 Packages [55.2 kB]\n",
            "Get:16 http://archive.ubuntu.com/ubuntu focal-backports/universe amd64 Packages [28.6 kB]\n",
            "Get:17 http://ppa.launchpad.net/graphics-drivers/ppa/ubuntu focal/main amd64 Packages [42.0 kB]\n",
            "Get:18 http://security.ubuntu.com/ubuntu focal-security/main amd64 Packages [2,590 kB]\n",
            "Fetched 8,499 kB in 4s (2,082 kB/s)\n",
            "Reading package lists... Done\n"
          ]
        }
      ],
      "source": [
        "import os\n",
        "# Find the latest version of spark 3.2 from http://www.apache.org/dist/spark/ and enter as the spark version\n",
        "# For example:\n",
        "# spark_version = 'spark-3.2.3'\n",
        "spark_version = 'spark-3.2.3'\n",
        "os.environ['SPARK_VERSION']=spark_version\n",
        "\n",
        "# Install Spark and Java\n",
        "!apt-get update\n",
        "!apt-get install openjdk-11-jdk-headless -qq > /dev/null\n",
        "!wget -q http://www.apache.org/dist/spark/$SPARK_VERSION/$SPARK_VERSION-bin-hadoop2.7.tgz\n",
        "!tar xf $SPARK_VERSION-bin-hadoop2.7.tgz\n",
        "!pip install -q findspark\n",
        "\n",
        "# Set Environment Variables\n",
        "import os\n",
        "os.environ[\"JAVA_HOME\"] = \"/usr/lib/jvm/java-11-openjdk-amd64\"\n",
        "os.environ[\"SPARK_HOME\"] = f\"/content/{spark_version}-bin-hadoop2.7\"\n",
        "\n",
        "# Start a SparkSession\n",
        "import findspark\n",
        "findspark.init()"
      ]
    },
    {
      "cell_type": "code",
      "source": [
        "# Start Spark session \n",
        "from pyspark.sql import SparkSession\n",
        "spark = SparkSession.builder.appName(\"VineReviews\").getOrCreate()"
      ],
      "metadata": {
        "id": "luEiMsR4RYSv"
      },
      "execution_count": 2,
      "outputs": []
    },
    {
      "cell_type": "code",
      "source": [
        "from pyspark import SparkFiles\n",
        "url = \"https://s3.amazonaws.com/amazon-reviews-pds/tsv/amazon_reviews_us_Beauty_v1_00.tsv.gz\"\n",
        "spark.sparkContext.addFile(url)\n",
        "\n",
        "# Read in the Review dataset as a DataFrame\n",
        "df = spark.read.option(\"encoding\", \"UTF-8\").csv(SparkFiles.get(\"\"), sep=\"\\t\", header=True, inferSchema=True)"
      ],
      "metadata": {
        "id": "dBuCDCGSXUtM"
      },
      "execution_count": 3,
      "outputs": []
    },
    {
      "cell_type": "code",
      "source": [
        "# Create the vine_table. DataFrame\n",
        "\n",
        "vine_df = df.selectExpr([\"review_id\", \"INT(star_rating)\", \"helpful_votes\", \"total_votes\", \"vine\", \"verified_purchase\"])\n",
        "vine_df.show(5)"
      ],
      "metadata": {
        "colab": {
          "base_uri": "https://localhost:8080/"
        },
        "id": "QESt0jOsXYOI",
        "outputId": "2839806e-427f-4ae3-ce51-193aa9fe9fac"
      },
      "execution_count": 39,
      "outputs": [
        {
          "output_type": "stream",
          "name": "stdout",
          "text": [
            "+--------------+-----------+-------------+-----------+----+-----------------+\n",
            "|     review_id|star_rating|helpful_votes|total_votes|vine|verified_purchase|\n",
            "+--------------+-----------+-------------+-----------+----+-----------------+\n",
            "|R3I2DHQBR577SS|          5|            0|          0|   N|                Y|\n",
            "|R1QNE9NQFJC2Y4|          5|            0|          0|   N|                Y|\n",
            "|R3LIDG2Q4LJBAO|          5|            0|          0|   N|                Y|\n",
            "|R3KSZHPAEVPEAL|          5|            0|          0|   N|                Y|\n",
            "| RAI2OIG50KZ43|          5|            0|          0|   N|                Y|\n",
            "+--------------+-----------+-------------+-----------+----+-----------------+\n",
            "only showing top 5 rows\n",
            "\n"
          ]
        }
      ]
    },
    {
      "cell_type": "code",
      "source": [
        "from pyspark.sql.functions import col"
      ],
      "metadata": {
        "id": "QxlaUSDiXo3W"
      },
      "execution_count": 40,
      "outputs": []
    },
    {
      "cell_type": "code",
      "source": [
        "# Filter table by total votes greater than 20 for most relevant reviews \n",
        "\n",
        "vine_df_new = vine_df.where(vine_df.total_votes>='20')\n",
        "vine_df_new.show()"
      ],
      "metadata": {
        "colab": {
          "base_uri": "https://localhost:8080/"
        },
        "id": "XTGXmN4MXwhs",
        "outputId": "fd59a7a7-3275-4d97-b06b-5e4b571f14fe"
      },
      "execution_count": 41,
      "outputs": [
        {
          "output_type": "stream",
          "name": "stdout",
          "text": [
            "+--------------+-----------+-------------+-----------+----+-----------------+\n",
            "|     review_id|star_rating|helpful_votes|total_votes|vine|verified_purchase|\n",
            "+--------------+-----------+-------------+-----------+----+-----------------+\n",
            "|R2QRUE9REK8OUC|          5|           18|         23|   N|                Y|\n",
            "|R2POXRW6PXHXZG|          5|           25|         30|   N|                Y|\n",
            "| RZN43XRZ89IIJ|          3|           10|         27|   N|                N|\n",
            "|R29Q748WSHZ3SN|          5|           23|         24|   N|                Y|\n",
            "| R46UL5G5HEPRZ|          5|           18|         20|   N|                N|\n",
            "|R2UQHSNWU6WTZX|          5|           74|         76|   N|                N|\n",
            "|R2HSRI3D6E2M9Y|          5|           69|         71|   N|                Y|\n",
            "|R17ARFSDV555EW|          1|           29|         29|   N|                Y|\n",
            "|R3GL5156FFEDQA|          5|           20|         21|   N|                Y|\n",
            "|R29KQJC9PIYWQS|          5|           25|         26|   N|                Y|\n",
            "| RYWUJT2A33VJH|          5|           20|         22|   N|                N|\n",
            "|R1KH5L45CWI30I|          5|           19|         20|   N|                N|\n",
            "|R1RKEBF47UEIVH|          5|           26|         30|   N|                N|\n",
            "|R3N1SCGIU1LV1U|          1|            2|         20|   N|                Y|\n",
            "|R2WIB8BHF77XIG|          4|           69|         78|   N|                N|\n",
            "|R20T4C0DA38YBD|          5|           22|         23|   N|                Y|\n",
            "| REUKY9DLNJXYF|          4|           21|         22|   N|                Y|\n",
            "|R2OH5QLD7MGJTG|          5|           48|         48|   N|                Y|\n",
            "|R179M7NOS1365W|          5|           88|         91|   N|                Y|\n",
            "|R2NPNCGM6T1JBA|          3|          253|        259|   N|                Y|\n",
            "+--------------+-----------+-------------+-----------+----+-----------------+\n",
            "only showing top 20 rows\n",
            "\n"
          ]
        }
      ]
    },
    {
      "cell_type": "code",
      "source": [
        "# helpful votes percentage 50% or greater\n",
        "vine_df_final = vine_df_new.withColumn(\"helpfulness\", col(\"helpful_votes\") / col(\"total_votes\")*100)\n",
        "vine_df_final.show()\n"
      ],
      "metadata": {
        "id": "Aytl7kxQs75V",
        "colab": {
          "base_uri": "https://localhost:8080/"
        },
        "outputId": "7a4cfa4d-ead7-4f3e-a4c3-238f51f3cedd"
      },
      "execution_count": 43,
      "outputs": [
        {
          "output_type": "stream",
          "name": "stdout",
          "text": [
            "+--------------+-----------+-------------+-----------+----+-----------------+-----------------+\n",
            "|     review_id|star_rating|helpful_votes|total_votes|vine|verified_purchase|      helpfulness|\n",
            "+--------------+-----------+-------------+-----------+----+-----------------+-----------------+\n",
            "|R2QRUE9REK8OUC|          5|           18|         23|   N|                Y|78.26086956521739|\n",
            "|R2POXRW6PXHXZG|          5|           25|         30|   N|                Y|83.33333333333334|\n",
            "| RZN43XRZ89IIJ|          3|           10|         27|   N|                N|37.03703703703704|\n",
            "|R29Q748WSHZ3SN|          5|           23|         24|   N|                Y|95.83333333333334|\n",
            "| R46UL5G5HEPRZ|          5|           18|         20|   N|                N|             90.0|\n",
            "|R2UQHSNWU6WTZX|          5|           74|         76|   N|                N|97.36842105263158|\n",
            "|R2HSRI3D6E2M9Y|          5|           69|         71|   N|                Y| 97.1830985915493|\n",
            "|R17ARFSDV555EW|          1|           29|         29|   N|                Y|            100.0|\n",
            "|R3GL5156FFEDQA|          5|           20|         21|   N|                Y|95.23809523809523|\n",
            "|R29KQJC9PIYWQS|          5|           25|         26|   N|                Y|96.15384615384616|\n",
            "| RYWUJT2A33VJH|          5|           20|         22|   N|                N| 90.9090909090909|\n",
            "|R1KH5L45CWI30I|          5|           19|         20|   N|                N|             95.0|\n",
            "|R1RKEBF47UEIVH|          5|           26|         30|   N|                N|86.66666666666667|\n",
            "|R3N1SCGIU1LV1U|          1|            2|         20|   N|                Y|             10.0|\n",
            "|R2WIB8BHF77XIG|          4|           69|         78|   N|                N|88.46153846153845|\n",
            "|R20T4C0DA38YBD|          5|           22|         23|   N|                Y|95.65217391304348|\n",
            "| REUKY9DLNJXYF|          4|           21|         22|   N|                Y|95.45454545454545|\n",
            "|R2OH5QLD7MGJTG|          5|           48|         48|   N|                Y|            100.0|\n",
            "|R179M7NOS1365W|          5|           88|         91|   N|                Y| 96.7032967032967|\n",
            "|R2NPNCGM6T1JBA|          3|          253|        259|   N|                Y|97.68339768339769|\n",
            "+--------------+-----------+-------------+-----------+----+-----------------+-----------------+\n",
            "only showing top 20 rows\n",
            "\n"
          ]
        }
      ]
    },
    {
      "cell_type": "code",
      "source": [
        "vine_df_final = vine_df_final.where(vine_df_final.helpfulness >= '50')\n",
        "vine_df_final.show()"
      ],
      "metadata": {
        "colab": {
          "base_uri": "https://localhost:8080/"
        },
        "id": "T5ytwZFIB-8c",
        "outputId": "5c7bf016-8f07-4525-b3ea-6a68ea053b71"
      },
      "execution_count": 44,
      "outputs": [
        {
          "output_type": "stream",
          "name": "stdout",
          "text": [
            "+--------------+-----------+-------------+-----------+----+-----------------+-----------------+\n",
            "|     review_id|star_rating|helpful_votes|total_votes|vine|verified_purchase|      helpfulness|\n",
            "+--------------+-----------+-------------+-----------+----+-----------------+-----------------+\n",
            "|R2QRUE9REK8OUC|          5|           18|         23|   N|                Y|78.26086956521739|\n",
            "|R2POXRW6PXHXZG|          5|           25|         30|   N|                Y|83.33333333333334|\n",
            "|R29Q748WSHZ3SN|          5|           23|         24|   N|                Y|95.83333333333334|\n",
            "| R46UL5G5HEPRZ|          5|           18|         20|   N|                N|             90.0|\n",
            "|R2UQHSNWU6WTZX|          5|           74|         76|   N|                N|97.36842105263158|\n",
            "|R2HSRI3D6E2M9Y|          5|           69|         71|   N|                Y| 97.1830985915493|\n",
            "|R17ARFSDV555EW|          1|           29|         29|   N|                Y|            100.0|\n",
            "|R3GL5156FFEDQA|          5|           20|         21|   N|                Y|95.23809523809523|\n",
            "|R29KQJC9PIYWQS|          5|           25|         26|   N|                Y|96.15384615384616|\n",
            "| RYWUJT2A33VJH|          5|           20|         22|   N|                N| 90.9090909090909|\n",
            "|R1KH5L45CWI30I|          5|           19|         20|   N|                N|             95.0|\n",
            "|R1RKEBF47UEIVH|          5|           26|         30|   N|                N|86.66666666666667|\n",
            "|R2WIB8BHF77XIG|          4|           69|         78|   N|                N|88.46153846153845|\n",
            "|R20T4C0DA38YBD|          5|           22|         23|   N|                Y|95.65217391304348|\n",
            "| REUKY9DLNJXYF|          4|           21|         22|   N|                Y|95.45454545454545|\n",
            "|R2OH5QLD7MGJTG|          5|           48|         48|   N|                Y|            100.0|\n",
            "|R179M7NOS1365W|          5|           88|         91|   N|                Y| 96.7032967032967|\n",
            "|R2NPNCGM6T1JBA|          3|          253|        259|   N|                Y|97.68339768339769|\n",
            "|R345Z1BTFABFY0|          1|           19|         22|   N|                Y|86.36363636363636|\n",
            "|R2Z6FGGU3VNCT2|          1|           41|         46|   N|                N|89.13043478260869|\n",
            "+--------------+-----------+-------------+-----------+----+-----------------+-----------------+\n",
            "only showing top 20 rows\n",
            "\n"
          ]
        }
      ]
    },
    {
      "cell_type": "code",
      "source": [
        "# Filter on paid reviews \n",
        "vine_df_paid = vine_df_final.where(vine_df_new.vine=='Y')\n",
        "vine_df_paid.show()"
      ],
      "metadata": {
        "colab": {
          "base_uri": "https://localhost:8080/"
        },
        "id": "2lwh9D8Hvaej",
        "outputId": "53c98973-adeb-4b49-c0cc-5cab7f30a996"
      },
      "execution_count": 45,
      "outputs": [
        {
          "output_type": "stream",
          "name": "stdout",
          "text": [
            "+--------------+-----------+-------------+-----------+----+-----------------+-----------------+\n",
            "|     review_id|star_rating|helpful_votes|total_votes|vine|verified_purchase|      helpfulness|\n",
            "+--------------+-----------+-------------+-----------+----+-----------------+-----------------+\n",
            "|R106V6GUNWRSSS|          5|          857|        889|   Y|                N|96.40044994375702|\n",
            "|R37N8KZS48W36A|          5|           36|         37|   Y|                N| 97.2972972972973|\n",
            "|R1LNEQ2MQE03PD|          5|           49|         66|   Y|                N|74.24242424242425|\n",
            "|R1ECPWPUNK36ES|          5|           29|         31|   Y|                N|93.54838709677419|\n",
            "|R16BUM7UQZLOM6|          3|          107|        112|   Y|                N|95.53571428571429|\n",
            "| R7NWIOCA5RVPR|          5|           19|         26|   Y|                N|73.07692307692307|\n",
            "|R3NTGOCUZB33JK|          5|           40|         47|   Y|                Y| 85.1063829787234|\n",
            "| RQX3RHGMG7UBN|          5|          186|        200|   Y|                N|             93.0|\n",
            "|R3E6QYKZDST042|          4|           33|         39|   Y|                N|84.61538461538461|\n",
            "|R2GR106PWUN85O|          4|           36|         39|   Y|                N| 92.3076923076923|\n",
            "| R5AJK8HCOKXV5|          4|           20|         23|   Y|                N|86.95652173913044|\n",
            "| RCHD0PMJO6Y52|          3|           17|         20|   Y|                N|             85.0|\n",
            "|R1AF6ANE5JFP4D|          5|           50|         55|   Y|                N| 90.9090909090909|\n",
            "|R2FKVTMWD52KEY|          4|          265|        276|   Y|                N|96.01449275362319|\n",
            "| RZUT8OQAGWOYE|          5|           46|         49|   Y|                N|93.87755102040816|\n",
            "| RW89H46BTJJWI|          2|           20|         20|   Y|                N|            100.0|\n",
            "| RQ0N3J1IZKGMA|          1|           63|         63|   Y|                N|            100.0|\n",
            "|R1Z88KA5VANTXS|          2|           42|         47|   Y|                N|89.36170212765957|\n",
            "|R3M9NW8LPEKTWX|          5|           20|         21|   Y|                Y|95.23809523809523|\n",
            "|R16QHBYJJ01R4P|          5|           23|         24|   Y|                N|95.83333333333334|\n",
            "+--------------+-----------+-------------+-----------+----+-----------------+-----------------+\n",
            "only showing top 20 rows\n",
            "\n"
          ]
        }
      ]
    },
    {
      "cell_type": "code",
      "source": [
        "# Paid analysis - total nbr of reviews\n",
        "count_paid = vine_df_paid.agg({\"review_id\": \"count\"}).show()"
      ],
      "metadata": {
        "colab": {
          "base_uri": "https://localhost:8080/"
        },
        "id": "ciD20t9v-bqk",
        "outputId": "19ca403e-ea3a-4165-e0f7-6b74464d8dfe"
      },
      "execution_count": 46,
      "outputs": [
        {
          "output_type": "stream",
          "name": "stdout",
          "text": [
            "+----------------+\n",
            "|count(review_id)|\n",
            "+----------------+\n",
            "|             647|\n",
            "+----------------+\n",
            "\n"
          ]
        }
      ]
    },
    {
      "cell_type": "code",
      "source": [
        "# Paid analysis - total nbr of 5 star reviews\n",
        "paid_5stars_df = vine_df_paid.where(vine_df_paid.star_rating == '5')\n",
        "paid_5stars_df.show()"
      ],
      "metadata": {
        "colab": {
          "base_uri": "https://localhost:8080/"
        },
        "id": "s4b-1C5X-3XQ",
        "outputId": "b8212424-92f4-472e-8574-cf2c489d2e76"
      },
      "execution_count": 47,
      "outputs": [
        {
          "output_type": "stream",
          "name": "stdout",
          "text": [
            "+--------------+-----------+-------------+-----------+----+-----------------+-----------------+\n",
            "|     review_id|star_rating|helpful_votes|total_votes|vine|verified_purchase|      helpfulness|\n",
            "+--------------+-----------+-------------+-----------+----+-----------------+-----------------+\n",
            "|R106V6GUNWRSSS|          5|          857|        889|   Y|                N|96.40044994375702|\n",
            "|R37N8KZS48W36A|          5|           36|         37|   Y|                N| 97.2972972972973|\n",
            "|R1LNEQ2MQE03PD|          5|           49|         66|   Y|                N|74.24242424242425|\n",
            "|R1ECPWPUNK36ES|          5|           29|         31|   Y|                N|93.54838709677419|\n",
            "| R7NWIOCA5RVPR|          5|           19|         26|   Y|                N|73.07692307692307|\n",
            "|R3NTGOCUZB33JK|          5|           40|         47|   Y|                Y| 85.1063829787234|\n",
            "| RQX3RHGMG7UBN|          5|          186|        200|   Y|                N|             93.0|\n",
            "|R1AF6ANE5JFP4D|          5|           50|         55|   Y|                N| 90.9090909090909|\n",
            "| RZUT8OQAGWOYE|          5|           46|         49|   Y|                N|93.87755102040816|\n",
            "|R3M9NW8LPEKTWX|          5|           20|         21|   Y|                Y|95.23809523809523|\n",
            "|R16QHBYJJ01R4P|          5|           23|         24|   Y|                N|95.83333333333334|\n",
            "|R2I21V7CIK0S6T|          5|           20|         22|   Y|                N| 90.9090909090909|\n",
            "|R2NY80QPQ1M88G|          5|           52|         58|   Y|                N|89.65517241379311|\n",
            "| RRSIV34QARU2V|          5|           43|         45|   Y|                N|95.55555555555556|\n",
            "| R1LRUMTX9CHC5|          5|           20|         21|   Y|                N|95.23809523809523|\n",
            "| RGK0Y9N04AD92|          5|           77|         92|   Y|                N|83.69565217391305|\n",
            "| R1M9Y6P6NMTGC|          5|           41|         50|   Y|                N|             82.0|\n",
            "|R2S902W8TD4KQ2|          5|           66|         66|   Y|                N|            100.0|\n",
            "|R31ZN9U9C5IBLZ|          5|           18|         21|   Y|                N|85.71428571428571|\n",
            "| RTJT0A2IFTQR1|          5|           78|         87|   Y|                N|89.65517241379311|\n",
            "+--------------+-----------+-------------+-----------+----+-----------------+-----------------+\n",
            "only showing top 20 rows\n",
            "\n"
          ]
        }
      ]
    },
    {
      "cell_type": "code",
      "source": [
        "count_paid_5stars = paid_5stars_df.agg({\"review_id\": \"count\"})\n",
        "count_paid_5stars.show()"
      ],
      "metadata": {
        "colab": {
          "base_uri": "https://localhost:8080/"
        },
        "id": "3AQpyYeO_K_g",
        "outputId": "582f6fed-eeab-45da-c729-01314ead9b7c"
      },
      "execution_count": 48,
      "outputs": [
        {
          "output_type": "stream",
          "name": "stdout",
          "text": [
            "+----------------+\n",
            "|count(review_id)|\n",
            "+----------------+\n",
            "|             229|\n",
            "+----------------+\n",
            "\n"
          ]
        }
      ]
    },
    {
      "cell_type": "code",
      "source": [
        "percentage_paid = 229/647*100\n",
        "percentage_paid"
      ],
      "metadata": {
        "colab": {
          "base_uri": "https://localhost:8080/"
        },
        "id": "2zAJPgsx_3e-",
        "outputId": "958fc91e-f760-4e91-9048-8c86372ae0d2"
      },
      "execution_count": 49,
      "outputs": [
        {
          "output_type": "execute_result",
          "data": {
            "text/plain": [
              "35.394126738794434"
            ]
          },
          "metadata": {},
          "execution_count": 49
        }
      ]
    },
    {
      "cell_type": "code",
      "source": [
        "# Filter on unpaid reviews \n",
        "vine_df_unpaid = vine_df_final.where(vine_df_new.vine=='N')\n",
        "vine_df_unpaid.show()"
      ],
      "metadata": {
        "colab": {
          "base_uri": "https://localhost:8080/"
        },
        "id": "Xys4fo-9xeX-",
        "outputId": "276bdbbb-d000-4cb5-973d-90c01cc1afb8"
      },
      "execution_count": 50,
      "outputs": [
        {
          "output_type": "stream",
          "name": "stdout",
          "text": [
            "+--------------+-----------+-------------+-----------+----+-----------------+-----------------+\n",
            "|     review_id|star_rating|helpful_votes|total_votes|vine|verified_purchase|      helpfulness|\n",
            "+--------------+-----------+-------------+-----------+----+-----------------+-----------------+\n",
            "|R2QRUE9REK8OUC|          5|           18|         23|   N|                Y|78.26086956521739|\n",
            "|R2POXRW6PXHXZG|          5|           25|         30|   N|                Y|83.33333333333334|\n",
            "|R29Q748WSHZ3SN|          5|           23|         24|   N|                Y|95.83333333333334|\n",
            "| R46UL5G5HEPRZ|          5|           18|         20|   N|                N|             90.0|\n",
            "|R2UQHSNWU6WTZX|          5|           74|         76|   N|                N|97.36842105263158|\n",
            "|R2HSRI3D6E2M9Y|          5|           69|         71|   N|                Y| 97.1830985915493|\n",
            "|R17ARFSDV555EW|          1|           29|         29|   N|                Y|            100.0|\n",
            "|R3GL5156FFEDQA|          5|           20|         21|   N|                Y|95.23809523809523|\n",
            "|R29KQJC9PIYWQS|          5|           25|         26|   N|                Y|96.15384615384616|\n",
            "| RYWUJT2A33VJH|          5|           20|         22|   N|                N| 90.9090909090909|\n",
            "|R1KH5L45CWI30I|          5|           19|         20|   N|                N|             95.0|\n",
            "|R1RKEBF47UEIVH|          5|           26|         30|   N|                N|86.66666666666667|\n",
            "|R2WIB8BHF77XIG|          4|           69|         78|   N|                N|88.46153846153845|\n",
            "|R20T4C0DA38YBD|          5|           22|         23|   N|                Y|95.65217391304348|\n",
            "| REUKY9DLNJXYF|          4|           21|         22|   N|                Y|95.45454545454545|\n",
            "|R2OH5QLD7MGJTG|          5|           48|         48|   N|                Y|            100.0|\n",
            "|R179M7NOS1365W|          5|           88|         91|   N|                Y| 96.7032967032967|\n",
            "|R2NPNCGM6T1JBA|          3|          253|        259|   N|                Y|97.68339768339769|\n",
            "|R345Z1BTFABFY0|          1|           19|         22|   N|                Y|86.36363636363636|\n",
            "|R2Z6FGGU3VNCT2|          1|           41|         46|   N|                N|89.13043478260869|\n",
            "+--------------+-----------+-------------+-----------+----+-----------------+-----------------+\n",
            "only showing top 20 rows\n",
            "\n"
          ]
        }
      ]
    },
    {
      "cell_type": "code",
      "source": [
        "# Unpaid analysis - total nbr of reviews\n",
        "count_unpaid = vine_df_unpaid.agg({\"review_id\": \"count\"}).show()"
      ],
      "metadata": {
        "id": "IFabqWlmzknC",
        "colab": {
          "base_uri": "https://localhost:8080/"
        },
        "outputId": "8e277f18-25ca-49a0-ef1f-8358e0867d1a"
      },
      "execution_count": 51,
      "outputs": [
        {
          "output_type": "stream",
          "name": "stdout",
          "text": [
            "+----------------+\n",
            "|count(review_id)|\n",
            "+----------------+\n",
            "|           74113|\n",
            "+----------------+\n",
            "\n"
          ]
        }
      ]
    },
    {
      "cell_type": "code",
      "source": [
        "# Unpaid analysis - total nbr of 5 star reviews\n",
        "unpaid_5stars_df = vine_df_unpaid.where(vine_df_unpaid.star_rating == '5')\n",
        "unpaid_5stars_df.show()"
      ],
      "metadata": {
        "id": "_7ifv7gUzXRy",
        "colab": {
          "base_uri": "https://localhost:8080/"
        },
        "outputId": "7248db31-9269-45aa-90f4-33befd18a66a"
      },
      "execution_count": 52,
      "outputs": [
        {
          "output_type": "stream",
          "name": "stdout",
          "text": [
            "+--------------+-----------+-------------+-----------+----+-----------------+-----------------+\n",
            "|     review_id|star_rating|helpful_votes|total_votes|vine|verified_purchase|      helpfulness|\n",
            "+--------------+-----------+-------------+-----------+----+-----------------+-----------------+\n",
            "|R2QRUE9REK8OUC|          5|           18|         23|   N|                Y|78.26086956521739|\n",
            "|R2POXRW6PXHXZG|          5|           25|         30|   N|                Y|83.33333333333334|\n",
            "|R29Q748WSHZ3SN|          5|           23|         24|   N|                Y|95.83333333333334|\n",
            "| R46UL5G5HEPRZ|          5|           18|         20|   N|                N|             90.0|\n",
            "|R2UQHSNWU6WTZX|          5|           74|         76|   N|                N|97.36842105263158|\n",
            "|R2HSRI3D6E2M9Y|          5|           69|         71|   N|                Y| 97.1830985915493|\n",
            "|R3GL5156FFEDQA|          5|           20|         21|   N|                Y|95.23809523809523|\n",
            "|R29KQJC9PIYWQS|          5|           25|         26|   N|                Y|96.15384615384616|\n",
            "| RYWUJT2A33VJH|          5|           20|         22|   N|                N| 90.9090909090909|\n",
            "|R1KH5L45CWI30I|          5|           19|         20|   N|                N|             95.0|\n",
            "|R1RKEBF47UEIVH|          5|           26|         30|   N|                N|86.66666666666667|\n",
            "|R20T4C0DA38YBD|          5|           22|         23|   N|                Y|95.65217391304348|\n",
            "|R2OH5QLD7MGJTG|          5|           48|         48|   N|                Y|            100.0|\n",
            "|R179M7NOS1365W|          5|           88|         91|   N|                Y| 96.7032967032967|\n",
            "|R1TXQ0M82NQLMV|          5|           20|         22|   N|                N| 90.9090909090909|\n",
            "|R20H4TUUM6MINH|          5|           23|         23|   N|                N|            100.0|\n",
            "|R1L50YVIAGSXD7|          5|           83|         86|   N|                N|96.51162790697676|\n",
            "|R375EU2C7XA6W1|          5|           19|         22|   N|                Y|86.36363636363636|\n",
            "|R24NW150J4IJZX|          5|           20|         20|   N|                Y|            100.0|\n",
            "|R2Z61BFU672BEE|          5|           20|         26|   N|                Y|76.92307692307693|\n",
            "+--------------+-----------+-------------+-----------+----+-----------------+-----------------+\n",
            "only showing top 20 rows\n",
            "\n"
          ]
        }
      ]
    },
    {
      "cell_type": "code",
      "source": [
        "count_unpaid_5stars = unpaid_5stars_df.agg({\"review_id\": \"count\"})\n",
        "count_unpaid_5stars.show()"
      ],
      "metadata": {
        "colab": {
          "base_uri": "https://localhost:8080/"
        },
        "id": "QfVx7pW4ArNC",
        "outputId": "d3de8910-52e5-4847-cb8c-9f9f39b5efbe"
      },
      "execution_count": 53,
      "outputs": [
        {
          "output_type": "stream",
          "name": "stdout",
          "text": [
            "+----------------+\n",
            "|count(review_id)|\n",
            "+----------------+\n",
            "|           43217|\n",
            "+----------------+\n",
            "\n"
          ]
        }
      ]
    },
    {
      "cell_type": "code",
      "source": [
        "percentage_unpaid = 43217/74113*100\n",
        "percentage_unpaid"
      ],
      "metadata": {
        "colab": {
          "base_uri": "https://localhost:8080/"
        },
        "id": "AgzRoZk8Amd1",
        "outputId": "6b7bdfa5-381a-4718-fc0c-1243dd2c410a"
      },
      "execution_count": 54,
      "outputs": [
        {
          "output_type": "execute_result",
          "data": {
            "text/plain": [
              "58.312306882733125"
            ]
          },
          "metadata": {},
          "execution_count": 54
        }
      ]
    },
    {
      "cell_type": "code",
      "source": [],
      "metadata": {
        "id": "TDgdDLosA2jV"
      },
      "execution_count": null,
      "outputs": []
    }
  ]
}